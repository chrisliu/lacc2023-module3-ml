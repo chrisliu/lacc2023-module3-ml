{
 "cells": [
  {
   "cell_type": "code",
   "execution_count": null,
   "id": "cfa6c097",
   "metadata": {},
   "outputs": [],
   "source": [
    "!pip install git+https://github.com/chrisliu/lacc2023-module3-ml"
   ]
  },
  {
   "cell_type": "code",
   "execution_count": null,
   "id": "4f9e2e92",
   "metadata": {},
   "outputs": [],
   "source": [
    "from google.colab import output\n",
    "output.enable_custom_widget_manager()"
   ]
  },
  {
   "cell_type": "code",
   "execution_count": null,
   "id": "b9f1cee8",
   "metadata": {
    "slideshow": {
     "slide_type": "skip"
    }
   },
   "outputs": [],
   "source": [
    "from lacc.maze import (\n",
    "    Maze,\n",
    "    MazeBoard,\n",
    "    draw_maze,\n",
    "    animate_maze,\n",
    "    LEFT,\n",
    "    RIGHT,\n",
    "    UP,\n",
    "    DOWN,\n",
    ")\n",
    "import lacc.maze.instructor as instructor"
   ]
  },
  {
   "cell_type": "code",
   "execution_count": null,
   "id": "bcb43184",
   "metadata": {
    "slideshow": {
     "slide_type": "skip"
    }
   },
   "outputs": [],
   "source": [
    "example_maze = MazeBoard([\n",
    "    '######## ',\n",
    "    '#   #  # ',\n",
    "    '# # # ###',\n",
    "    '###S    #',\n",
    "    '#G# ### #',\n",
    "    '# #  #  #',\n",
    "    '# ## # ##',\n",
    "    '#      # ',\n",
    "    '######## ',\n",
    "])"
   ]
  },
  {
   "cell_type": "markdown",
   "id": "9b4fabae",
   "metadata": {
    "slideshow": {
     "slide_type": "slide"
    }
   },
   "source": [
    "# What is a Maze?"
   ]
  },
  {
   "cell_type": "code",
   "execution_count": null,
   "id": "5d7df29f",
   "metadata": {
    "slideshow": {
     "slide_type": "fragment"
    }
   },
   "outputs": [],
   "source": [
    "example_maze.reset()\n",
    "draw_maze(example_maze)"
   ]
  },
  {
   "cell_type": "markdown",
   "id": "2ebaa5d6",
   "metadata": {
    "slideshow": {
     "slide_type": "subslide"
    }
   },
   "source": [
    "## We want to find the solution from the start to the goal!\n",
    "* Start = Green\n",
    "* Goal = Red"
   ]
  },
  {
   "cell_type": "code",
   "execution_count": null,
   "id": "45f0e4ac",
   "metadata": {
    "slideshow": {
     "slide_type": "-"
    }
   },
   "outputs": [],
   "source": [
    "instructor.solve_maze(example_maze)\n",
    "animate_maze(example_maze)"
   ]
  },
  {
   "cell_type": "markdown",
   "id": "f00775d9",
   "metadata": {
    "slideshow": {
     "slide_type": "subslide"
    }
   },
   "source": [
    "## Question: How do we translate a real-world problem into something a computer can solve?"
   ]
  },
  {
   "cell_type": "markdown",
   "id": "05373ff1",
   "metadata": {},
   "source": [
    "Student Answers:\n",
    "* TBD"
   ]
  },
  {
   "cell_type": "markdown",
   "id": "effdbc11",
   "metadata": {
    "slideshow": {
     "slide_type": "subslide"
    }
   },
   "source": [
    "## Three Objectives\n",
    "1. State Representation: how do we represent a maze?\n",
    "2. Transition Between States: what moves can we make in a maze?\n",
    "3. Starting & Goal State: where do we start and finish a maze?"
   ]
  },
  {
   "cell_type": "markdown",
   "id": "b1479240",
   "metadata": {
    "slideshow": {
     "slide_type": "slide"
    }
   },
   "source": [
    "# Objective 1: Representing a Maze\n",
    "* For this assignment, we prepared a `MazeBoard` class."
   ]
  },
  {
   "cell_type": "code",
   "execution_count": null,
   "id": "a331b0fc",
   "metadata": {},
   "outputs": [],
   "source": [
    "example_maze = MazeBoard([\n",
    "    '######## ',\n",
    "    '#   #  # ',\n",
    "    '# # # ###',\n",
    "    '###S    #',\n",
    "    '#G# ### #',\n",
    "    '# #  #  #',\n",
    "    '# ## # ##',\n",
    "    '#      # ',\n",
    "    '######## ',\n",
    "])"
   ]
  },
  {
   "cell_type": "code",
   "execution_count": null,
   "id": "d319dc09",
   "metadata": {
    "slideshow": {
     "slide_type": "fragment"
    }
   },
   "outputs": [],
   "source": [
    "example_maze"
   ]
  },
  {
   "cell_type": "markdown",
   "id": "9c1dbe2b",
   "metadata": {
    "slideshow": {
     "slide_type": "fragment"
    }
   },
   "source": [
    "> It functions like a 2D array, with some special fields to help us do the animations."
   ]
  },
  {
   "cell_type": "code",
   "execution_count": null,
   "id": "537df47c",
   "metadata": {
    "slideshow": {
     "slide_type": "fragment"
    }
   },
   "outputs": [],
   "source": [
    "example_maze[0][0]"
   ]
  },
  {
   "cell_type": "code",
   "execution_count": null,
   "id": "0b709553",
   "metadata": {
    "slideshow": {
     "slide_type": "fragment"
    }
   },
   "outputs": [],
   "source": [
    "example_maze[0][0] == '#'"
   ]
  },
  {
   "cell_type": "code",
   "execution_count": null,
   "id": "84cdd2d0",
   "metadata": {
    "slideshow": {
     "slide_type": "fragment"
    }
   },
   "outputs": [],
   "source": [
    "example_maze[0][0] == Maze.WALL # For better code readability."
   ]
  },
  {
   "cell_type": "code",
   "execution_count": null,
   "id": "a7da2f86",
   "metadata": {},
   "outputs": [],
   "source": [
    "# Maze.WALL  == '#'\n",
    "# Maze.START == 'S'\n",
    "# Maze.GOAL  == 'G'\n",
    "# Maze.FLOOR == ' '"
   ]
  },
  {
   "cell_type": "markdown",
   "id": "dc518c24",
   "metadata": {
    "slideshow": {
     "slide_type": "slide"
    }
   },
   "source": [
    "# Objective 3: Where do we start solving the maze?"
   ]
  },
  {
   "cell_type": "markdown",
   "id": "c80adc9d",
   "metadata": {
    "slideshow": {
     "slide_type": "fragment"
    }
   },
   "source": [
    "Let's say the coordinate where we see `Maze.START` (or `S`).\n",
    "\n",
    "This could matter for mazes with multiple goals, or even multiple starting points!"
   ]
  },
  {
   "cell_type": "markdown",
   "id": "256942a7",
   "metadata": {
    "slideshow": {
     "slide_type": "subslide"
    }
   },
   "source": [
    "## Class Assignment: Find Starting Point (5 minutes)\n",
    "Let's review some basics programming principles from the previous modules!"
   ]
  },
  {
   "cell_type": "code",
   "execution_count": null,
   "id": "4ef05041",
   "metadata": {},
   "outputs": [],
   "source": [
    "def find_start(maze):\n",
    "    # Return the row and column we should start the maze.\n",
    "    ...\n",
    "    \n",
    "    return row, col"
   ]
  },
  {
   "cell_type": "code",
   "execution_count": null,
   "id": "b873808d",
   "metadata": {
    "slideshow": {
     "slide_type": "fragment"
    }
   },
   "outputs": [],
   "source": [
    "draw_maze(example_maze, grid_px=30)"
   ]
  },
  {
   "cell_type": "code",
   "execution_count": null,
   "id": "3c089e46",
   "metadata": {},
   "outputs": [],
   "source": [
    "find_start(example_maze)"
   ]
  },
  {
   "cell_type": "markdown",
   "id": "a7859100",
   "metadata": {
    "slideshow": {
     "slide_type": "slide"
    }
   },
   "source": [
    "# Objective 1: Keeping Track of the Player\n",
    "Now we know where top start, we need to keep track of our current location.\n",
    "* We'll use the position variable `me` to keep track of the current row and column."
   ]
  },
  {
   "cell_type": "code",
   "execution_count": null,
   "id": "fc1c6fa5",
   "metadata": {},
   "outputs": [],
   "source": [
    "me = find_start(example_maze)\n",
    "me"
   ]
  },
  {
   "cell_type": "code",
   "execution_count": null,
   "id": "25ca270f",
   "metadata": {},
   "outputs": [],
   "source": [
    "example_maze.highlight(me)\n",
    "draw_maze(example_maze)\n",
    "example_maze.reset()"
   ]
  },
  {
   "cell_type": "markdown",
   "id": "b9148016",
   "metadata": {
    "slideshow": {
     "slide_type": "slide"
    }
   },
   "source": [
    "# Objective 2: How could we explore the maze?\n",
    "What actions can we perform from where we're at?"
   ]
  },
  {
   "cell_type": "code",
   "execution_count": null,
   "id": "e3f87885",
   "metadata": {},
   "outputs": [],
   "source": [
    "example_maze.explore(me)\n",
    "\n",
    "...\n",
    "\n",
    "draw_maze(example_maze, only_visible=True)\n",
    "example_maze.reset()"
   ]
  },
  {
   "cell_type": "markdown",
   "id": "f244ca18",
   "metadata": {
    "slideshow": {
     "slide_type": "subslide"
    }
   },
   "source": [
    "## Class Assignment: Can we move to the right? (5 minutes)\n",
    "Let's check if we can move to the right of `me`."
   ]
  },
  {
   "cell_type": "code",
   "execution_count": null,
   "id": "8b121aa0",
   "metadata": {},
   "outputs": [],
   "source": [
    "# Maze.WALL  == '#'\n",
    "# Maze.START == 'S'\n",
    "# Maze.GOAL  == 'G'\n",
    "# Maze.FLOOR == ' '\n",
    "\n",
    "def is_wall(maze, pos):\n",
    "    # Is the element at this position a wall?\n",
    "    ...\n",
    "    \n",
    "    return False\n",
    "\n",
    "def on_right(me):\n",
    "    # What is the position to the right of me?\n",
    "    ...\n",
    "    \n",
    "    return me\n",
    "\n",
    "def can_move_right(maze, me):\n",
    "    # Can we move to the right of me?\n",
    "    ...\n",
    "    \n",
    "    return False"
   ]
  },
  {
   "cell_type": "code",
   "execution_count": null,
   "id": "e75ef990",
   "metadata": {},
   "outputs": [],
   "source": [
    "right = on_right(me)"
   ]
  },
  {
   "cell_type": "code",
   "execution_count": null,
   "id": "3a57abde",
   "metadata": {},
   "outputs": [],
   "source": [
    "is_wall(example_maze, right)"
   ]
  },
  {
   "cell_type": "code",
   "execution_count": null,
   "id": "ad3a342a",
   "metadata": {},
   "outputs": [],
   "source": [
    "can_move_right(example_maze, me)"
   ]
  },
  {
   "cell_type": "markdown",
   "id": "553f8242",
   "metadata": {
    "slideshow": {
     "slide_type": "subslide"
    }
   },
   "source": [
    "# Class Assignment: Can we move in a particular direction? (10 minutes)\n",
    "Let's check if we can move in some direction."
   ]
  },
  {
   "cell_type": "code",
   "execution_count": null,
   "id": "91c8ffc1",
   "metadata": {},
   "outputs": [],
   "source": [
    "# Directions:\n",
    "print(UP)\n",
    "print(DOWN)\n",
    "print(LEFT)\n",
    "print(RIGHT)\n",
    "\n",
    "def on_my(me, direction):\n",
    "    # What is the position to the <direction> of me?\n",
    "    ...\n",
    "    \n",
    "    return me\n",
    "\n",
    "def can_move(maze, me, direction):\n",
    "    # Can we move to the <direction> of me?\n",
    "    ...\n",
    "    \n",
    "    return False"
   ]
  },
  {
   "cell_type": "code",
   "execution_count": null,
   "id": "0b6b8f33",
   "metadata": {},
   "outputs": [],
   "source": [
    "pos = on_my(me, RIGHT)\n",
    "can_move(example_maze, pos, RIGHT)"
   ]
  },
  {
   "cell_type": "code",
   "execution_count": null,
   "id": "79336133",
   "metadata": {
    "slideshow": {
     "slide_type": "fragment"
    }
   },
   "outputs": [],
   "source": [
    "for direction in [UP, DOWN, LEFT, RIGHT]:\n",
    "    pos = on_my(me, direction)\n",
    "    available = can_move(example_maze, pos, direction)\n",
    "    print(pos, available)"
   ]
  },
  {
   "cell_type": "markdown",
   "id": "49edecb3",
   "metadata": {
    "slideshow": {
     "slide_type": "subslide"
    }
   },
   "source": [
    "## Class Assignment: Try to make a sequence of moves if possible. (10 minutes)"
   ]
  },
  {
   "cell_type": "code",
   "execution_count": null,
   "id": "95a98fa6",
   "metadata": {},
   "outputs": [],
   "source": [
    "def try_move_me(maze, me, moves):\n",
    "    # Perform all the <moves> if possible, returning the final position.\n",
    "    # Otherwise, return None\n",
    "    ...\n",
    "    \n",
    "    return me"
   ]
  },
  {
   "cell_type": "code",
   "execution_count": null,
   "id": "ce03be66",
   "metadata": {},
   "outputs": [],
   "source": [
    "moves = [RIGHT, RIGHT, RIGHT, RIGHT, \n",
    "         DOWN, DOWN, \n",
    "         LEFT, \n",
    "         DOWN, DOWN, \n",
    "         LEFT, LEFT, \n",
    "         UP, UP, \n",
    "         LEFT, \n",
    "         UP]\n",
    "\n",
    "me = find_start(example_maze)\n",
    "try_move_me(example_maze, me, moves)"
   ]
  },
  {
   "cell_type": "markdown",
   "id": "3ad6cc9c",
   "metadata": {
    "slideshow": {
     "slide_type": "slide"
    }
   },
   "source": [
    "# Are we missing state information?"
   ]
  },
  {
   "cell_type": "code",
   "execution_count": null,
   "id": "85eec9e9",
   "metadata": {
    "slideshow": {
     "slide_type": "fragment"
    }
   },
   "outputs": [],
   "source": [
    "example_maze.reset()\n",
    "me = find_start(example_maze)\n",
    "moves = [RIGHT, RIGHT, RIGHT, RIGHT, \n",
    "         DOWN, DOWN, \n",
    "         LEFT, \n",
    "         DOWN, DOWN, \n",
    "         LEFT, LEFT, \n",
    "         UP, UP, \n",
    "         LEFT, \n",
    "         UP]\n",
    "instructor.make_moves(example_maze, me, moves)\n",
    "animate_maze(example_maze)"
   ]
  },
  {
   "cell_type": "markdown",
   "id": "77473896",
   "metadata": {
    "slideshow": {
     "slide_type": "fragment"
    }
   },
   "source": [
    "> We need some way to keep track of where we've been."
   ]
  },
  {
   "cell_type": "markdown",
   "id": "b57de053",
   "metadata": {
    "slideshow": {
     "slide_type": "subslide"
    }
   },
   "source": [
    "## Let's define explored areas using a `set`!"
   ]
  },
  {
   "cell_type": "markdown",
   "id": "33aea205",
   "metadata": {
    "slideshow": {
     "slide_type": "fragment"
    }
   },
   "source": [
    "### Set Basics\n",
    "A set is a collection of *unique* data."
   ]
  },
  {
   "cell_type": "code",
   "execution_count": null,
   "id": "702722fe",
   "metadata": {},
   "outputs": [],
   "source": [
    "s = set()\n",
    "s"
   ]
  },
  {
   "cell_type": "code",
   "execution_count": null,
   "id": "2f9b4813",
   "metadata": {},
   "outputs": [],
   "source": [
    "pos = (0, 0)"
   ]
  },
  {
   "cell_type": "code",
   "execution_count": null,
   "id": "7e44a205",
   "metadata": {
    "slideshow": {
     "slide_type": "fragment"
    }
   },
   "outputs": [],
   "source": [
    "pos in s"
   ]
  },
  {
   "cell_type": "code",
   "execution_count": null,
   "id": "1407b690",
   "metadata": {
    "slideshow": {
     "slide_type": "fragment"
    }
   },
   "outputs": [],
   "source": [
    "s.add(pos)\n",
    "pos in s"
   ]
  },
  {
   "cell_type": "code",
   "execution_count": null,
   "id": "4ec4b51e",
   "metadata": {
    "slideshow": {
     "slide_type": "fragment"
    }
   },
   "outputs": [],
   "source": [
    "explored = set()"
   ]
  },
  {
   "cell_type": "markdown",
   "id": "09c0533b",
   "metadata": {
    "slideshow": {
     "slide_type": "slide"
    }
   },
   "source": [
    "# Exploration Strategies\n"
   ]
  },
  {
   "cell_type": "markdown",
   "id": "5b73bc52",
   "metadata": {
    "slideshow": {
     "slide_type": "subslide"
    }
   },
   "source": [
    "## Depth-First Search (DFS)\n",
    "![alt text](https://upload.wikimedia.org/wikipedia/commons/thumb/7/7f/Depth-First-Search.gif/220px-Depth-First-Search.gif)\n",
    "\n",
    "1. Begin with the start state.\n",
    "2. Check the latest node.\n",
    "    * If it's the goal state.\n",
    "    * If not, repeat 2 for each of its children.\n",
    "3. If all the children don't match the goal, *backtrack*."
   ]
  },
  {
   "cell_type": "markdown",
   "id": "22385208",
   "metadata": {
    "slideshow": {
     "slide_type": "subslide"
    }
   },
   "source": [
    "### Class Assignment: Find first occurrence in a tree using DFS. (10 minutes)\n",
    "We want to search through the tree `tree` and find the first occurrence of `2023`."
   ]
  },
  {
   "cell_type": "code",
   "execution_count": null,
   "id": "1b811c7e",
   "metadata": {},
   "outputs": [],
   "source": [
    "tree    = [2022, 2021, 2023, 2019, 2023, 2002, 1999]\n",
    "# index =     0,    1,    2,    3,    4,    5,    6"
   ]
  },
  {
   "cell_type": "markdown",
   "id": "45b12939",
   "metadata": {},
   "source": [
    "The first state is `tree[0]`. We want to explore the next states.\n",
    "\n",
    "The children of `tree[i]` are `tree[2 * i + 1]` and `tree[2 * i + 2]`."
   ]
  },
  {
   "cell_type": "code",
   "execution_count": null,
   "id": "a15df251",
   "metadata": {
    "slideshow": {
     "slide_type": "fragment"
    }
   },
   "outputs": [],
   "source": [
    "def get_children_idxs(i):\n",
    "    # Generate the next actions.\n",
    "    # Return the children indices.\n",
    "    \n",
    "    ...\n",
    "    \n",
    "    return []\n",
    "\n",
    "def is_goal(tree, i, goal):\n",
    "    # Check goal state.\n",
    "    # Returns if the value at tree[i] is the goal.\n",
    "    \n",
    "    ...\n",
    "    \n",
    "    return False\n",
    "\n",
    "def first_dfs(tree, i, goal):\n",
    "    # Returns the first index where the goal is encountered.\n",
    "    # 1. Begin with the start state.\n",
    "    # 2. Check the latest node.\n",
    "    #     * If it's the goal state.\n",
    "    #     * If not, repeat 2 for each of its children.\n",
    "    # 3. If all the children don't match the goal, return None.\n",
    "    \n",
    "    ...\n",
    "    \n",
    "    return i"
   ]
  },
  {
   "cell_type": "code",
   "execution_count": null,
   "id": "5f547e2a",
   "metadata": {},
   "outputs": [],
   "source": [
    "start = 0\n",
    "goal = 2023\n",
    "first_dfs(tree, start, goal) # Should return 4."
   ]
  },
  {
   "cell_type": "markdown",
   "id": "35fdf82c",
   "metadata": {
    "slideshow": {
     "slide_type": "subslide"
    }
   },
   "source": [
    "### Bonus Challenge: Find the last occurence in a tree using DFS. (15 minutes)\n",
    "In DFS order, we want to find the last time we see `2023`."
   ]
  },
  {
   "cell_type": "code",
   "execution_count": null,
   "id": "25b85e63",
   "metadata": {},
   "outputs": [],
   "source": [
    "def last_dfs(tree, i, goal):\n",
    "    # Returns the last index where goal is encountered.\n",
    "    # Hint: we need to search through the entire tree.\n",
    "    \n",
    "    ...\n",
    "    \n",
    "    return i"
   ]
  },
  {
   "cell_type": "markdown",
   "id": "3f7b505b",
   "metadata": {
    "slideshow": {
     "slide_type": "subslide"
    }
   },
   "source": [
    "## Class Assignment: Searching the maze using DFS. (10 minutes)"
   ]
  },
  {
   "cell_type": "markdown",
   "id": "aa09b061",
   "metadata": {},
   "source": [
    "Remember \n",
    "* we have the four directions `UP`, `DOWN`, `LEFT`, `RIGHT`.\n",
    "* we implemented `can_move(maze, me, direction)` and `on_my(me, direction)`.\n",
    "* we know the start state with `find_start(maze)`.\n",
    "* we save the list of explored points in `explored`."
   ]
  },
  {
   "cell_type": "code",
   "execution_count": null,
   "id": "352d1438",
   "metadata": {},
   "outputs": [],
   "source": [
    "def solve_maze_dfs(maze, me, explored):\n",
    "    # Search for `Maze.GOAL` and return the position.\n",
    "    # 1. Begin with the start state.\n",
    "    # 2. Check the latest node.\n",
    "    #     * If it's the goal state.\n",
    "    #     * If not, repeat 2 for each of its children.\n",
    "    # 3. If all the children don't match the goal, return None.\n",
    "    \n",
    "    ...\n",
    "    \n",
    "    return 0, 0"
   ]
  },
  {
   "cell_type": "code",
   "execution_count": null,
   "id": "f62b8e5e",
   "metadata": {},
   "outputs": [],
   "source": [
    "me = find_start(example_maze)\n",
    "explored = set()\n",
    "solve_maze_dfs(example_maze, me, explored)"
   ]
  },
  {
   "cell_type": "markdown",
   "id": "fdf711cb",
   "metadata": {
    "slideshow": {
     "slide_type": "fragment"
    }
   },
   "source": [
    "* DFS does not always return the most optimal solution.\n",
    "* DFS may do more searching than necessary."
   ]
  },
  {
   "cell_type": "markdown",
   "id": "773b9b79",
   "metadata": {
    "slideshow": {
     "slide_type": "subslide"
    }
   },
   "source": [
    "## Breadth-First Search (BFS)\n",
    "![alt text](https://upload.wikimedia.org/wikipedia/commons/4/46/Animated_BFS.gif)\n",
    "\n",
    "1. Begin with the start state.\n",
    "2. Check the earliest node.\n",
    "    * If it's the goal state, done!\n",
    "    * If not, add its children to the tree.\n",
    "3. Repeat 2 until the goal has been reached."
   ]
  },
  {
   "cell_type": "markdown",
   "id": "160ae4b5",
   "metadata": {
    "slideshow": {
     "slide_type": "fragment"
    }
   },
   "source": [
    "### Let's define the search order using a queue."
   ]
  },
  {
   "cell_type": "code",
   "execution_count": null,
   "id": "277fc1b4",
   "metadata": {},
   "outputs": [],
   "source": [
    "from collections import deque"
   ]
  },
  {
   "cell_type": "code",
   "execution_count": null,
   "id": "ffc187b7",
   "metadata": {},
   "outputs": [],
   "source": [
    "queue = deque()"
   ]
  },
  {
   "cell_type": "code",
   "execution_count": null,
   "id": "138b8572",
   "metadata": {},
   "outputs": [],
   "source": [
    "queue.append('a')\n",
    "queue"
   ]
  },
  {
   "cell_type": "code",
   "execution_count": null,
   "id": "d357b964",
   "metadata": {},
   "outputs": [],
   "source": [
    "queue.popleft()"
   ]
  },
  {
   "cell_type": "code",
   "execution_count": null,
   "id": "80a452a4",
   "metadata": {},
   "outputs": [],
   "source": [
    "queue.append('b')\n",
    "queue.append('c')\n",
    "queue"
   ]
  },
  {
   "cell_type": "markdown",
   "id": "cf7893cc",
   "metadata": {
    "slideshow": {
     "slide_type": "subslide"
    }
   },
   "source": [
    "### Class Assignment: Searching a maze using BFS. (15 minutes)"
   ]
  },
  {
   "cell_type": "code",
   "execution_count": null,
   "id": "55c9c2e3",
   "metadata": {},
   "outputs": [],
   "source": [
    "def solve_maze_bfs(maze):\n",
    "    # Search for `Maze.GOAL` and return the position.\n",
    "    # 1. Begin with the start state.\n",
    "    # 2. Check the earliest node.\n",
    "    #     * If it's the goal state, done!\n",
    "    #     * If not, add its children to the tree.\n",
    "    # 3. Repeat 2 until the goal has been reached.\n",
    "    # \n",
    "    # Hint: Use a queue to keep track of the earliest node.\n",
    "    \n",
    "    me = find_start(maze)\n",
    "    queue = dequeue()\n",
    "    \n",
    "    ...\n",
    "    \n",
    "    return 0, 0"
   ]
  },
  {
   "cell_type": "markdown",
   "id": "97dccad9",
   "metadata": {
    "slideshow": {
     "slide_type": "subslide"
    }
   },
   "source": [
    "# A*  Search\n",
    "Pronounced A-star search.\n",
    "\n",
    "> Intuition: Search a promising direction deeply (like DFS), but can find the optimal solution like bfs."
   ]
  },
  {
   "cell_type": "markdown",
   "id": "b242df53",
   "metadata": {},
   "source": [
    "## How do we estimate what the best next state is?\n",
    "Let the current cost be $g(x)$, the estimated cost be $h(x)$."
   ]
  },
  {
   "cell_type": "markdown",
   "id": "1cb7598f",
   "metadata": {},
   "source": [
    "The estimated cost is\n",
    "$$f(x) = g(x) + h(x)$$"
   ]
  },
  {
   "cell_type": "markdown",
   "id": "5f98f4f9",
   "metadata": {},
   "source": [
    "The true cost is\n",
    "$$f^*(x) = g(x) + h^*(x)$$"
   ]
  },
  {
   "cell_type": "markdown",
   "id": "69d4fd83",
   "metadata": {},
   "source": [
    "For A* search, we want to make sure $h(x)$ is *admissible*: $h(x) \\leq h^*(x)$. In other words, we must *underestimate* the true cost.\n",
    "\n",
    "> "
   ]
  },
  {
   "cell_type": "markdown",
   "id": "f41810b5",
   "metadata": {},
   "source": [
    "## A* Search Algorithm\n",
    "1. Get the state with the lowest estimated cost.\n",
    "2. If it's the goal, we're done :)\n",
    "3. Otherwise, for each of its children (next states), estimate their costs and add them in descending order."
   ]
  },
  {
   "cell_type": "markdown",
   "id": "47975233",
   "metadata": {
    "slideshow": {
     "slide_type": "subslide"
    }
   },
   "source": [
    "# What is an admissible heuristic for a maze?"
   ]
  },
  {
   "cell_type": "markdown",
   "id": "a2246700",
   "metadata": {
    "slideshow": {
     "slide_type": "subslide"
    }
   },
   "source": [
    "## Euclidean Distance\n",
    "![alt text](media/euclidean.png)\n",
    "This is admissible since the euclidean distance will always be shorter than the real path since we cannot travel diagonally."
   ]
  },
  {
   "cell_type": "markdown",
   "id": "bae4449f",
   "metadata": {},
   "source": [
    "### Class Assignment: Compute the euclidean distance of a given state. (5 minutes)"
   ]
  },
  {
   "cell_type": "code",
   "execution_count": null,
   "id": "d40bd202",
   "metadata": {},
   "outputs": [],
   "source": [
    "def euclidean_distance(maze, me):\n",
    "    return 0"
   ]
  },
  {
   "cell_type": "code",
   "execution_count": null,
   "id": "f5ccad20",
   "metadata": {},
   "outputs": [],
   "source": [
    "maze = example_maze.snapshots[24]\n",
    "euclidean_distance(maze, maze.me)"
   ]
  },
  {
   "cell_type": "markdown",
   "id": "d37c4414",
   "metadata": {
    "slideshow": {
     "slide_type": "subslide"
    }
   },
   "source": [
    "## Manhattan Distance\n",
    "![alt text](media/manhattan.png)\n",
    "This is admissible since the number of steps in the best case is the manhattan distance. If there's no direct path, it'll cost more.\n",
    "* Remember $h(x) \\leq h^*(x)$ where $h(x)$ is the manhattan distance."
   ]
  },
  {
   "cell_type": "markdown",
   "id": "35fa4d41",
   "metadata": {
    "slideshow": {
     "slide_type": "fragment"
    }
   },
   "source": [
    "### Class Assignment: Compute the manhattan distance of a given state. (5 minutes)"
   ]
  },
  {
   "cell_type": "code",
   "execution_count": null,
   "id": "cf026fd0",
   "metadata": {},
   "outputs": [],
   "source": [
    "def manhattan_distance(maze, me):\n",
    "    return 0"
   ]
  },
  {
   "cell_type": "code",
   "execution_count": null,
   "id": "2240155b",
   "metadata": {},
   "outputs": [],
   "source": [
    "maze = example_maze.snapshots[24]\n",
    "manhattan_distance(maze, me)"
   ]
  },
  {
   "cell_type": "markdown",
   "id": "67d44f97",
   "metadata": {
    "slideshow": {
     "slide_type": "subslide"
    }
   },
   "source": [
    "## Let's use Python's priority queue to keep track of the lowest cost."
   ]
  },
  {
   "cell_type": "code",
   "execution_count": null,
   "id": "ecde0a8f",
   "metadata": {},
   "outputs": [],
   "source": [
    "from queue import PriorityQueue"
   ]
  },
  {
   "cell_type": "code",
   "execution_count": null,
   "id": "b5be1eb3",
   "metadata": {},
   "outputs": [],
   "source": [
    "q = PriorityQueue()"
   ]
  },
  {
   "cell_type": "markdown",
   "id": "2d678f41",
   "metadata": {},
   "source": [
    "We put items in a tuple `(cost, item)`.\n",
    "* The queue will be sorted from lowest to highest cost."
   ]
  },
  {
   "cell_type": "code",
   "execution_count": null,
   "id": "61c0b37e",
   "metadata": {},
   "outputs": [],
   "source": [
    "q.put((10, 'foo'))"
   ]
  },
  {
   "cell_type": "code",
   "execution_count": null,
   "id": "44f28655",
   "metadata": {},
   "outputs": [],
   "source": [
    "q.put((2, 'bar'))"
   ]
  },
  {
   "cell_type": "code",
   "execution_count": null,
   "id": "fdf85a16",
   "metadata": {},
   "outputs": [],
   "source": [
    "q.get()"
   ]
  },
  {
   "cell_type": "code",
   "execution_count": null,
   "id": "5bf1931d",
   "metadata": {},
   "outputs": [],
   "source": [
    "q.get()"
   ]
  },
  {
   "cell_type": "code",
   "execution_count": null,
   "id": "4b3f29cd",
   "metadata": {},
   "outputs": [],
   "source": [
    "q.empty()"
   ]
  },
  {
   "cell_type": "markdown",
   "id": "ef63c247",
   "metadata": {
    "slideshow": {
     "slide_type": "subslide"
    }
   },
   "source": [
    "## Class Assignment: Solve the maze using A* Search"
   ]
  },
  {
   "cell_type": "code",
   "execution_count": null,
   "id": "2e5dd9ff",
   "metadata": {},
   "outputs": [],
   "source": [
    "def solve_maze_astar(maze):\n",
    "    # Search for `Maze.GOAL` and return the position.\n",
    "    # 1. Begin with the start state.\n",
    "    # 2. Check the lowest cost node.\n",
    "    #     * If it's the goal state, done!\n",
    "    #     * If not, add its children to the tree.\n",
    "    # 3. Repeat 2 until the goal has been reached.\n",
    "    # \n",
    "    # Estimated cost = Cost to point + Heuristic cost\n",
    "    # f(x) = g(x) + h(x)\n",
    "    \n",
    "    me = find_start(maze)\n",
    "    queue = PriorityQueue()\n",
    "    distance = dict() # g(x) = distance[pos]\n",
    "    \n",
    "    ...\n",
    "    \n",
    "    return 0, 0"
   ]
  }
 ],
 "metadata": {
  "celltoolbar": "Slideshow",
  "kernelspec": {
   "display_name": "Python 3 (ipykernel)",
   "language": "python",
   "name": "python3"
  },
  "language_info": {
   "codemirror_mode": {
    "name": "ipython",
    "version": 3
   },
   "file_extension": ".py",
   "mimetype": "text/x-python",
   "name": "python",
   "nbconvert_exporter": "python",
   "pygments_lexer": "ipython3",
   "version": "3.11.4"
  }
 },
 "nbformat": 4,
 "nbformat_minor": 5
}
