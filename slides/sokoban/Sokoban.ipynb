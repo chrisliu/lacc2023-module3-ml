{
 "cells": [
  {
   "cell_type": "code",
   "execution_count": null,
   "id": "486605ad",
   "metadata": {
    "slideshow": {
     "slide_type": "skip"
    },
    "tags": []
   },
   "outputs": [],
   "source": [
    "# Allow imports relative to the root directory.\n",
    "# We won't need this once packaging has been set up.\n",
    "import os\n",
    "import sys\n",
    "module_path = os.path.abspath(os.path.join('..'))\n",
    "if module_path not in sys.path:\n",
    "    sys.path.append(module_path)"
   ]
  },
  {
   "cell_type": "code",
   "execution_count": null,
   "id": "67ca1b15",
   "metadata": {
    "slideshow": {
     "slide_type": "skip"
    },
    "tags": []
   },
   "outputs": [],
   "source": [
    "from lacc.module3.sokoban import (draw)"
   ]
  },
  {
   "cell_type": "markdown",
   "id": "76cb2aa0",
   "metadata": {
    "slideshow": {
     "slide_type": "slide"
    }
   },
   "source": [
    "# Sokoban"
   ]
  },
  {
   "cell_type": "markdown",
   "id": "eda25be1",
   "metadata": {
    "slideshow": {
     "slide_type": "subslide"
    }
   },
   "source": [
    "What is sokoban?"
   ]
  },
  {
   "cell_type": "code",
   "execution_count": null,
   "id": "cf3262d6-c106-4f13-b807-4fa0486701d1",
   "metadata": {
    "tags": []
   },
   "outputs": [],
   "source": [
    "draw()"
   ]
  }
 ],
 "metadata": {
  "celltoolbar": "Slideshow",
  "kernelspec": {
   "display_name": "Python 3 (ipykernel)",
   "language": "python",
   "name": "python3"
  },
  "language_info": {
   "codemirror_mode": {
    "name": "ipython",
    "version": 3
   },
   "file_extension": ".py",
   "mimetype": "text/x-python",
   "name": "python",
   "nbconvert_exporter": "python",
   "pygments_lexer": "ipython3",
   "version": "3.11.4"
  },
  "toc-showmarkdowntxt": true
 },
 "nbformat": 4,
 "nbformat_minor": 5
}
