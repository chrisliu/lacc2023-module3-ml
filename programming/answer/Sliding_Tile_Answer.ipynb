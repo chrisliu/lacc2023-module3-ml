{
  "cells": [
    {
      "cell_type": "markdown",
      "metadata": {
        "id": "CDKRfc8vT5bi"
      },
      "source": [
        "# Sliding Tile Programming Practice!\n",
        "\n",
        "In this project, we will explore the [sliding tile puzzle](https://en.wikipedia.org/wiki/Sliding_puzzle). The sliding tile puzzle is a game similar to the rubicks cube, where the goal is to place the numbered squares in order, given a random initial state."
      ]
    },
    {
      "cell_type": "markdown",
      "metadata": {
        "id": "OjG1lpfsZIUZ"
      },
      "source": [
        "## Importing External Libraries\n",
        "\n",
        "In this section, we will import all the external libraries needed to successfully complete the programming problem.\n",
        "\n",
        "You do __NOT__ have to do anything here! In fact, please do __NOT__ modify anything in this section."
      ]
    },
    {
      "cell_type": "code",
      "execution_count": null,
      "metadata": {
        "colab": {
          "base_uri": "https://localhost:8080/"
        },
        "id": "VcMpY4J9T5bl",
        "outputId": "92c7fdb0-44cb-42ef-ca3d-dae58fb787a1"
      },
      "outputs": [],
      "source": [
        "#### SETUP CODE #####\n",
        "### DO NOT MODIFY ###\n",
        "!pip install --upgrade --force-reinstall --quiet git+https://github.com/chrisliu/lacc2023-module3-ml.git\n",
        "from lacc.sliding_tile.sliding_tile import SlidingTile, generate_valid_sliding_tile, middle_state, goal_state, AStarSearch\n",
        "print('Done with External Imports!')\n",
        "#### SETUP CODE #####\n",
        "### DO NOT MODIFY ###"
      ]
    },
    {
      "cell_type": "markdown",
      "metadata": {
        "id": "UfjCKQCKT5bn"
      },
      "source": [
        "## Getting Acquainted With the Puzzle\n",
        "\n",
        "Now, we have imported everything, its time to test everything and see how it all works.\n",
        "\n",
        "Firstly, let's see what a \"sliding tile\" looks like:"
      ]
    },
    {
      "cell_type": "code",
      "execution_count": null,
      "metadata": {
        "colab": {
          "base_uri": "https://localhost:8080/"
        },
        "id": "aepE1Z2JT5bn",
        "outputId": "6f857995-0e63-45f8-ed99-4f9dfaab0780"
      },
      "outputs": [],
      "source": [
        "puzzle = middle_state(3) # Generate a random puzzle of size 3x3.\n",
        "print(puzzle) # Print this puzzle to the output"
      ]
    },
    {
      "cell_type": "markdown",
      "metadata": {
        "id": "wIpCZZjDaP4H"
      },
      "source": [
        "The function above generated a random sliding tile puzzle. As you can see, there are nine tiles with eight being labeled as \"1-8\" and one blank tile.\n",
        "\n",
        "During this game, we can move the various tiles. Let's see what that looks like now."
      ]
    },
    {
      "cell_type": "code",
      "execution_count": null,
      "metadata": {
        "colab": {
          "base_uri": "https://localhost:8080/"
        },
        "id": "XcYe9RXlaPQ4",
        "outputId": "45f117e1-8a65-4a7d-f226-a590c156f23b"
      },
      "outputs": [],
      "source": [
        "puzzle.print_actions('drul') # Print the sequence of actions down, right, up, left"
      ]
    },
    {
      "cell_type": "markdown",
      "metadata": {
        "id": "5fN5Q2p8bwhR"
      },
      "source": [
        "As you can see in this example, we pushed the blank tile down, then left, then up, then right. During the sliding tile puzzle, you can move the blank tile in any direction, as long as its not removed from the board.\n",
        "\n",
        "The goal of the sliding tile puzzle is to find a sequence of moves such that the sliding tile will look like the goal state. What does the goal state look like? Well, let's see!"
      ]
    },
    {
      "cell_type": "code",
      "execution_count": null,
      "metadata": {
        "colab": {
          "base_uri": "https://localhost:8080/"
        },
        "id": "vH1EULnmcWDv",
        "outputId": "86ab7aa7-872f-4fd0-d9fc-0e0438e95ccf"
      },
      "outputs": [],
      "source": [
        "goal = goal_state(3) # Get a goal state for a 3x3 puzzle\n",
        "print('goal:', goal, 'puzzle:', puzzle, sep='\\n') # Print the puzzle and goal side by side"
      ]
    },
    {
      "cell_type": "markdown",
      "metadata": {
        "id": "nl1tORYicpTS"
      },
      "source": [
        "As you can see, it will usually take a few moves to get to the goal state. An additional goal by computer scientists, is to find the fewest number of moves possible to solve the puzzle.\n",
        "\n",
        "How is this puzzle represented in the computer? Well, its usually represented by a 2-dimensional list with the blank tile representing a zero. Let's print this out:"
      ]
    },
    {
      "cell_type": "code",
      "execution_count": null,
      "metadata": {
        "colab": {
          "base_uri": "https://localhost:8080/"
        },
        "id": "1xWKj_aDdoj-",
        "outputId": "594d8382-3e4e-4855-bc23-c586b394178f"
      },
      "outputs": [],
      "source": [
        "print('puzzle:', puzzle, 'puzzle (as array):', puzzle.to_array(), sep='\\n')"
      ]
    },
    {
      "cell_type": "markdown",
      "metadata": {
        "id": "-LOdwgrGd7ug"
      },
      "source": [
        "Thus, you can edit the puzzle just like an array. This means you can modify the puzzle accordingly.\n",
        "\n",
        "For instance, let's get the middle tile (or blank tile in this case):"
      ]
    },
    {
      "cell_type": "code",
      "execution_count": null,
      "metadata": {
        "colab": {
          "base_uri": "https://localhost:8080/"
        },
        "id": "apBeK4iRlg7R",
        "outputId": "553f8cd1-0fa0-457c-f1f4-15533501172f"
      },
      "outputs": [],
      "source": [
        "print('puzzle:', puzzle, 'middle tile:', puzzle[1][1], 'bottom corner tile:', puzzle[2][2], sep='\\n')"
      ]
    },
    {
      "cell_type": "markdown",
      "metadata": {
        "id": "QeeE5qsQl1Zx"
      },
      "source": [
        "Now that you can see how the puzzle works, lets start finding a way to solve it!"
      ]
    },
    {
      "cell_type": "markdown",
      "metadata": {
        "id": "9Ez4rUSlT5bo"
      },
      "source": [
        "## Implementing Actions\n",
        "\n",
        "Now, our first task is implementing the different actions that we can perform. As showcased above, we must be able to slide the blank tile up, down, left, and right. We can do this by modifying the underlying array associated with the sliding tile puzzle.\n",
        "\n",
        "For instance, let's look at a working \"slide_up\" function."
      ]
    },
    {
      "cell_type": "code",
      "execution_count": null,
      "metadata": {
        "id": "sN6zXaF5mpxf"
      },
      "outputs": [],
      "source": [
        "def slide_up(puzzle):\n",
        "    new_puzzle = puzzle.copy() # copy puzzle so that we aren't editing the old puzzle\n",
        "\n",
        "    # First, get location of the blank tile\n",
        "    x_blank_tile, y_blank_tile = puzzle.blank_tile()\n",
        "\n",
        "    # Second, let's check if its possible to move upward\n",
        "    if x_blank_tile == 0:\n",
        "        return False # Return False because moving upward is not allowed in this case\n",
        "\n",
        "    # Now lets swap the empty tile with the tile above it\n",
        "    tile_above = puzzle[x_blank_tile - 1][y_blank_tile]\n",
        "    new_puzzle[x_blank_tile - 1][y_blank_tile] = 0\n",
        "    new_puzzle[x_blank_tile][y_blank_tile] = tile_above\n",
        "\n",
        "    # Let's return this new modified puzzle\n",
        "    return new_puzzle"
      ]
    },
    {
      "cell_type": "markdown",
      "metadata": {
        "id": "d3x9SBwym-w5"
      },
      "source": [
        "As you can see in the code, there were three steps to the slide up action:\n",
        "\n",
        "1. Get the location of the blank tile\n",
        "2. Check to see if its possible to slide upward\n",
        "3. Swap the blank tile with its upward neighbor.\n",
        "\n",
        "As always, let us test our code to see if it works."
      ]
    },
    {
      "cell_type": "code",
      "execution_count": null,
      "metadata": {
        "colab": {
          "base_uri": "https://localhost:8080/"
        },
        "id": "JX-8QroRmten",
        "outputId": "65d52c91-19df-43ee-f49f-195caeea7aac"
      },
      "outputs": [],
      "source": [
        "puzzle = middle_state(3)\n",
        "print('base puzzle:', puzzle, 'slide_up:', slide_up(puzzle), 'slide_up twice:', slide_up(slide_up(puzzle)), sep='\\n')\n"
      ]
    },
    {
      "cell_type": "markdown",
      "metadata": {
        "id": "RpSifT4eoNP2"
      },
      "source": [
        "Your job is to now implement the slide_down, slide_left, and slide_right functions based upon the function provided."
      ]
    },
    {
      "cell_type": "code",
      "execution_count": null,
      "metadata": {
        "id": "wd0EeVUtT5bp"
      },
      "outputs": [],
      "source": [
        "\n",
        "def slide_down(puzzle):\n",
        "      new_puzzle = puzzle.copy() # copy puzzle so that we aren't editing the old puzzle\n",
        "\n",
        "      ''' Start of Answer '''\n",
        "\n",
        "      # First, get location of the blank tile\n",
        "      x_blank_tile, y_blank_tile = puzzle.blank_tile()\n",
        "\n",
        "      # Second, let's check if its possible to move down\n",
        "      if x_blank_tile == puzzle.shape[1] - 1:\n",
        "          return False\n",
        "\n",
        "      # Third, lets swap the empty tile with the tile below it\n",
        "      tile_below = puzzle[x_blank_tile + 1][y_blank_tile]\n",
        "      new_puzzle[x_blank_tile + 1][y_blank_tile] = 0\n",
        "      new_puzzle[x_blank_tile][y_blank_tile] = tile_below\n",
        "\n",
        "      ''' End of Answer '''\n",
        "\n",
        "      return new_puzzle\n",
        "\n",
        "def slide_left(puzzle):\n",
        "      new_puzzle = puzzle.copy() # copy puzzle so that we aren't editing the old puzzle\n",
        "\n",
        "      ''' Start of Answer '''\n",
        "\n",
        "      # First, get location of the blank tile\n",
        "      x_blank_tile, y_blank_tile = puzzle.blank_tile()\n",
        "\n",
        "      # Second, let's check if its possible to move down\n",
        "      if y_blank_tile == 0:\n",
        "          return False\n",
        "\n",
        "      # Third, lets swap the empty tile with the tile below it\n",
        "      tile_to_left = puzzle[x_blank_tile, y_blank_tile - 1]\n",
        "      new_puzzle[x_blank_tile, y_blank_tile - 1] = 0\n",
        "      new_puzzle[x_blank_tile, y_blank_tile] = tile_to_left\n",
        "\n",
        "      ''' End of Answer '''\n",
        "\n",
        "      return new_puzzle\n",
        "\n",
        "def slide_right(puzzle : SlidingTile):\n",
        "      new_puzzle = puzzle.copy() # copy puzzle so that we aren't editing the old puzzle\n",
        "\n",
        "      ''' Start of Answer '''\n",
        "\n",
        "      # First, get location of the blank tile\n",
        "      x_blank_tile, y_blank_tile = puzzle.blank_tile()\n",
        "\n",
        "      # Second, let's check if its possible to move down\n",
        "      if y_blank_tile == puzzle.shape[0] - 1:\n",
        "          return False\n",
        "\n",
        "      # Third, lets swap the empty tile with the tile below it\n",
        "      tile_to_right = puzzle[x_blank_tile, y_blank_tile + 1]\n",
        "      new_puzzle[x_blank_tile, y_blank_tile + 1] = 0\n",
        "      new_puzzle[x_blank_tile, y_blank_tile] = tile_to_right\n",
        "\n",
        "      ''' End of Answer '''\n",
        "\n",
        "      return new_puzzle"
      ]
    },
    {
      "cell_type": "markdown",
      "metadata": {
        "id": "TvMysIyWT5bp"
      },
      "source": [
        "Now, let's test your implementations. You will need to visually inspect to see if this works."
      ]
    },
    {
      "cell_type": "code",
      "execution_count": null,
      "metadata": {
        "colab": {
          "base_uri": "https://localhost:8080/"
        },
        "id": "CwgzI1n9T5br",
        "outputId": "8f9754ab-9a88-42f2-ea49-ccdc1793b86c"
      },
      "outputs": [],
      "source": [
        "puzzle = middle_state(3)\n",
        "\n",
        "print('base puzzle:', puzzle, sep='\\n')\n",
        "print('slide_down:', slide_down(puzzle), 'slide_down twice:', slide_down(slide_down(puzzle)), sep='\\n')\n",
        "print('slide_left:', slide_left(puzzle), 'slide_left twice:', slide_left(slide_left(puzzle)), sep='\\n')\n",
        "print('slide_right:', slide_right(puzzle), 'slide_right twice:', slide_right(slide_right(puzzle)), sep='\\n')\n"
      ]
    },
    {
      "cell_type": "markdown",
      "metadata": {
        "id": "aeWeVagHT5br"
      },
      "source": [
        "## Implementing the goal_state\n",
        "\n",
        "Now that we have our actions, we now need a function to check whether our sliding tile puzzle has reached the goal state."
      ]
    },
    {
      "cell_type": "code",
      "execution_count": null,
      "metadata": {
        "id": "UKIQXU6RT5br"
      },
      "outputs": [],
      "source": [
        "def check_solved(puzzle : SlidingTile) -> bool:\n",
        "      ''' Checks to see if the puzzle is solved\n",
        "          Input: the current sliding tile puzzle\n",
        "          Output: True if the puzzle is solved, False otherwise\n",
        "      '''\n",
        "\n",
        "      ''' Start of Answer '''\n",
        "      goal = goal_state(len(puzzle))\n",
        "\n",
        "      for i in range(len(puzzle)):\n",
        "          for j in range(len(puzzle[i])):\n",
        "              if puzzle[i, j] != goal[i][j]:\n",
        "                  return False # We did not reach goal\n",
        "      return True\n",
        "      ''' End of Answer '''"
      ]
    },
    {
      "cell_type": "markdown",
      "metadata": {
        "id": "cX_OV-mEq_1u"
      },
      "source": [
        "As with before, let's test to see if our goal state works! You will need to visually inspect this case:"
      ]
    },
    {
      "cell_type": "code",
      "execution_count": null,
      "metadata": {
        "colab": {
          "base_uri": "https://localhost:8080/"
        },
        "id": "ea7jsgaZrGbj",
        "outputId": "44eb84c6-61e8-4d76-9f56-68f153b7df21"
      },
      "outputs": [],
      "source": [
        "random_puzzle = generate_valid_sliding_tile(3)\n",
        "goal = goal_state(3)\n",
        "\n",
        "print('Random sliding tile puzzle:', random_puzzle, 'is_goal: ' + str(check_solved(random_puzzle)), sep='\\n')\n",
        "print('Goal sliding tile puzzle:', goal, 'is_goal: ' + str(check_solved(goal)), sep='\\n')\n"
      ]
    },
    {
      "cell_type": "markdown",
      "metadata": {
        "id": "Pue_9BmPrF-A"
      },
      "source": [
        "## Depth First Search\n",
        "\n",
        "If you remember from earlier in the day, the first search method that we looked at was depth first search. This search method will search seek to explore one path as far as possible before seeking to explore another path. While this won't get us an optimal solution, we will quickly get a solution that works.\n",
        "\n",
        "So, let's get coding:"
      ]
    },
    {
      "cell_type": "code",
      "execution_count": null,
      "metadata": {
        "id": "S4GmuUSTsR5L"
      },
      "outputs": [],
      "source": [
        "def depth_first_search(puzzle : SlidingTile):\n",
        "  ''' Performs a Breadth First Search of the Sliding Tile Puzzle\n",
        "      Input: A starting SlidingTile Puzzle\n",
        "      Output: A sequence of moves that will solve the puzzle\n",
        "  '''\n",
        "\n",
        "  # First, let's create a list that will contain all of the puzzles that we've already seen.\n",
        "  seen_puzzles = []\n",
        "\n",
        "  # Second, let's create an array of all the 'states' that we need to explore. This\n",
        "  # will contain both the current puzzle state and actions to reach this state\n",
        "  to_explore = [('', puzzle)] # We populate this array with our starting state\n",
        "\n",
        "  while len(to_explore) > 0: # Keep looping while there's still spaces to explore\n",
        "    # Get the current state to explore\n",
        "    path, cur_puzzle = to_explore.pop() # This will get the most recent puzzle\n",
        "\n",
        "    # Check to see if we've already seen this puzzle\n",
        "    if cur_puzzle in seen_puzzles:\n",
        "      continue\n",
        "\n",
        "    # As we haven't seen this puzzle, let's add it to the list of seen states\n",
        "    seen_puzzles.append(cur_puzzle)\n",
        "\n",
        "    # Now, let's check to see if the current puzzle is a solution.\n",
        "    # If it is, we should return the path to get to this current puzzle\n",
        "    ''' Start of Solution'''\n",
        "    if check_solved(cur_puzzle):\n",
        "      return path\n",
        "    ''' End of Solution'''\n",
        "\n",
        "    # Now, we know that we don't have a solution. Thus, we need to add the next\n",
        "    # states to the list of states to explore. We must do this for each possible\n",
        "    # Action. Let's start with slide_up\n",
        "\n",
        "    up = slide_up(cur_puzzle) # Get the puzzle where we slide up\n",
        "    if up is not False: # Check to make sure this is a valid move\n",
        "      to_explore.append((path + 'u', up)) # Now let's add this to list of next states\n",
        "\n",
        "\n",
        "    # Your job is now add the slide_down, slide_left, and slide_right actions\n",
        "    ''' Start of Solution '''\n",
        "    down = slide_down(cur_puzzle) # Get the puzzle where we slide down\n",
        "    if down is not False: # Check to make sure this is a valid move\n",
        "      to_explore.append((path + 'd', down)) # Now let's add this to list of next states\n",
        "\n",
        "    left = slide_left(cur_puzzle) # Get the puzzle where we slide left\n",
        "    if left is not False: # Check to make sure this is a valid move\n",
        "      to_explore.append((path + 'l', left)) # Now let's add this to list of next states\n",
        "\n",
        "    right = slide_right(cur_puzzle) # Get the puzzle where we slide right\n",
        "    if right is not False: # Check to make sure this is a valid move\n",
        "      to_explore.append((path + 'r', right)) # Now let's add this to list of next states\n",
        "    ''' End of Solution '''\n",
        "\n",
        "    # Now that we finished all possible actions, we can go to next loop and are done\n",
        "\n",
        "  raise ValueError('No Possible Solution for puzzle:\\n', puzzle)"
      ]
    },
    {
      "cell_type": "markdown",
      "metadata": {
        "id": "_eOmAD9vv-Gm"
      },
      "source": [
        "Now that we have a search function, lets test that it works."
      ]
    },
    {
      "cell_type": "code",
      "execution_count": null,
      "metadata": {
        "colab": {
          "base_uri": "https://localhost:8080/"
        },
        "id": "2lawQ3rZwJrn",
        "outputId": "c86668b6-2c4a-4c8f-db1e-b59098f1041a"
      },
      "outputs": [],
      "source": [
        "random_puzzle = SlidingTile(3, [[1, 2, 3], [4, 5, 0], [7, 8, 6]])\n",
        "print('Puzzle:', random_puzzle, sep='\\n')\n",
        "print('Finding Solution......')\n",
        "solution_dfs = depth_first_search(random_puzzle)\n",
        "print('Solution Found!', solution_dfs)\n",
        "print('Solution is at depth', len(solution_dfs))\n",
        "print('printing solution....')\n",
        "random_puzzle.print_actions(solution_dfs)"
      ]
    },
    {
      "cell_type": "markdown",
      "metadata": {
        "id": "9aF0j2cY1_DH"
      },
      "source": [
        "If you were able to find a solution (with a depth of ~29) for the above example, then you're solution works!"
      ]
    },
    {
      "cell_type": "markdown",
      "metadata": {
        "id": "-G77-3Vr2LF5"
      },
      "source": [
        "## Breadth First Search\n",
        "\n",
        "Now, let's try implementing the second algorithm, Breadth First Search. This algorithm will seek to explore all possible actions before going to the next solution. Importantly, Breadth First Search will find an optimal solution, often at the expense of time compared to Depth First Search.\n",
        "\n",
        "Now, let's program Breadth First Search. It will be very similar to Depth First Search."
      ]
    },
    {
      "cell_type": "code",
      "execution_count": null,
      "metadata": {
        "id": "jmXGXmdkL7Q9"
      },
      "outputs": [],
      "source": [
        "def breadth_first_search(puzzle : SlidingTile):\n",
        "  ''' Performs a Breadth First Search of the Sliding Tile Puzzle\n",
        "      Input: A starting SlidingTile Puzzle\n",
        "      Output: A sequence of moves that will solve the puzzle\n",
        "  '''\n",
        "\n",
        "  # First, let's create a list that will contain all of the puzzles that we've already seen.\n",
        "  seen_puzzles = []\n",
        "\n",
        "  # Second, let's create an array of all the 'states' that we need to explore. This\n",
        "  # will contain both the current puzzle state and actions to reach this state\n",
        "  to_explore = [('', puzzle)] # We populate this array with our starting state\n",
        "\n",
        "  while len(to_explore) > 0: # Keep looping while there's still spaces to explore\n",
        "    # Get the current state to explore\n",
        "    path, cur_puzzle = to_explore.pop(0) # This will get the most recent puzzle\n",
        "\n",
        "    # Check to see if we've already seen this puzzle\n",
        "    if cur_puzzle in seen_puzzles:\n",
        "      continue\n",
        "\n",
        "    # As we haven't seen this puzzle, let's add it to the list of seen states\n",
        "    seen_puzzles.append(cur_puzzle)\n",
        "\n",
        "    # Now, let's check to see if the current puzzle is a solution.\n",
        "    # If it is, we should return the path to get to this current puzzle\n",
        "    ''' Start of Solution'''\n",
        "    if check_solved(cur_puzzle):\n",
        "      return path\n",
        "    ''' End of Solution'''\n",
        "\n",
        "    # Now, we know that we don't have a solution. Thus, we need to add the next\n",
        "    # states to the list of states to explore. We must do this for each possible\n",
        "    # Action. Let's start with slide_up\n",
        "\n",
        "    up = slide_up(cur_puzzle) # Get the puzzle where we slide up\n",
        "    if up is not False: # Check to make sure this is a valid move\n",
        "      to_explore.append((path + 'u', up)) # Now let's add this to list of next states\n",
        "\n",
        "\n",
        "    # Your job is now add the slide_down, slide_left, and slide_right actions\n",
        "    ''' Start of Solution '''\n",
        "    down = slide_down(cur_puzzle) # Get the puzzle where we slide down\n",
        "    if down is not False: # Check to make sure this is a valid move\n",
        "      to_explore.append((path + 'd', down)) # Now let's add this to list of next states\n",
        "\n",
        "    left = slide_left(cur_puzzle) # Get the puzzle where we slide left\n",
        "    if left is not False: # Check to make sure this is a valid move\n",
        "      to_explore.append((path + 'l', left)) # Now let's add this to list of next states\n",
        "\n",
        "    right = slide_right(cur_puzzle) # Get the puzzle where we slide right\n",
        "    if right is not False: # Check to make sure this is a valid move\n",
        "      to_explore.append((path + 'r', right)) # Now let's add this to list of next states\n",
        "    ''' End of Solution '''\n",
        "\n",
        "    # Now that we finished all possible actions, we can go to next loop and are done\n",
        "\n",
        "  raise ValueError('No Possible Solution for puzzle:\\n', puzzle)"
      ]
    },
    {
      "cell_type": "markdown",
      "metadata": {
        "id": "kPrA3QhOMUBN"
      },
      "source": [
        "Now, let's test this code."
      ]
    },
    {
      "cell_type": "code",
      "execution_count": null,
      "metadata": {
        "colab": {
          "base_uri": "https://localhost:8080/"
        },
        "id": "wNAxsC0zMkZk",
        "outputId": "2e2c0ce4-7306-4435-909c-e906e8be6e59"
      },
      "outputs": [],
      "source": [
        "random_puzzle = SlidingTile(3, [[2, 3, 0], [1, 4, 6], [7, 5, 8]])\n",
        "print('Puzzle:', random_puzzle, sep='\\n')\n",
        "print('Finding Solution......')\n",
        "solution_bfs = breadth_first_search(random_puzzle)\n",
        "print('Solution Found!', solution_bfs)\n",
        "print('Solution is at depth', len(solution_bfs))\n",
        "print('printing solution....')\n",
        "random_puzzle.print_actions(solution_bfs)"
      ]
    },
    {
      "cell_type": "markdown",
      "metadata": {
        "id": "FP0C8tvPM-dP"
      },
      "source": [
        "## Comparing Breadth-First to Depth-First\n",
        "\n",
        "\n",
        "Now that we have both Breadth-First and Depth-First search, lets compare them against each other. What do you notice (time, solution, etc)"
      ]
    },
    {
      "cell_type": "code",
      "execution_count": null,
      "metadata": {
        "colab": {
          "base_uri": "https://localhost:8080/"
        },
        "id": "axamd9wROH6a",
        "outputId": "69cbf8eb-7d0b-4c8f-8110-f5dce2ac8e01"
      },
      "outputs": [],
      "source": [
        "random_puzzle = SlidingTile(3, [[1, 2, 3], [4, 5, 0], [7, 8, 6]])\n",
        "print('Puzzle:', random_puzzle, sep='\\n')\n",
        "breadth_first_solution = breadth_first_search(random_puzzle)\n",
        "print('Breadth First Solution', breadth_first_solution)\n",
        "depth_first_solution = depth_first_search(random_puzzle)\n",
        "print('Depth First Solution', depth_first_solution)\n",
        "\n"
      ]
    },
    {
      "cell_type": "markdown",
      "metadata": {
        "id": "Sb8Ny_ypT5bt"
      },
      "source": [
        "## Advanced Section: A* Search\n",
        "\n",
        "If you have completed the other sections, this section is a little harder but can be considered a bonus. You aren't expected to complete this section."
      ]
    },
    {
      "cell_type": "markdown",
      "metadata": {
        "id": "4pIQdyefTmDY"
      },
      "source": [
        "### Motivation\n",
        "As you may have noticed, even though we are generating the correct solution it sometimes takes a very long time and won't even finish at all.\n",
        "\n",
        "Let's take the following example"
      ]
    },
    {
      "cell_type": "code",
      "execution_count": null,
      "metadata": {
        "colab": {
          "base_uri": "https://localhost:8080/",
          "height": 204
        },
        "id": "8l0ssq8-T5bt",
        "outputId": "53c493b1-8535-49a6-cb7c-01da3e8307e1"
      },
      "outputs": [],
      "source": [
        "sliding_tile = SlidingTile(3, [[4, 2, 3], [7, 0, 5], [8, 6, 1]])\n",
        "solved_sliding_tile = breadth_first_search(sliding_tile)\n",
        "print('Sliding Tile Sample:\\n', sliding_tile, '\\nSolution:', solved_sliding_tile)"
      ]
    },
    {
      "cell_type": "markdown",
      "metadata": {
        "id": "5Tuf71hkT5bu"
      },
      "source": [
        "If you have a computer like ours, this example will take really long to finish. Why is that?\n",
        "\n",
        "Well, since we are exhaustively searching (using breadth-first-search) we must do every combination of actions before adding an action. This means that solutions that have larger depths (or require many actions) will take a very long time to complete, or may not complete at all.\n",
        "\n",
        "Thus, we have to be a little smarter about how we search. We can't search everything because it takes to long.\n",
        "\n",
        "A method to limit how long the searching takes is by using a heuristic. If we can judge how many more actions it will take for us to reach the solution, then we can search these paths first. Something to note is that this heuristic must be optimistic, or underestimate the number of moves it will take, as then we can still be guranteed to have the shortest possible path."
      ]
    },
    {
      "cell_type": "markdown",
      "metadata": {
        "id": "GaJCVh1JTi_Q"
      },
      "source": [
        "### Creating A Heuristic\n",
        "\n",
        "Lets experiment with creating a first heuristic for this problem. For this heuristic, we are just going to count the number of spots that are wrong. This underestimates the number of moves, as we must move these tiles in order to get a solution.\n",
        "\n",
        "For example:\n",
        "\n",
        ">  [2, 3]\n",
        "\n",
        ">  [0, 1]\n",
        "\n",
        "will return 2. As 2,3 are in the right place and 0,1 are in the wrong place."
      ]
    },
    {
      "cell_type": "code",
      "execution_count": null,
      "metadata": {
        "id": "vqBEIznIT5bu"
      },
      "outputs": [],
      "source": [
        "def out_of_place(puzzle):\n",
        "    ''' Calculates the number of tiles out of place for the given puzzle\n",
        "        Input: Sliding Tile Puzzle\n",
        "        Output: A number representing how many tiles are out of place\n",
        "    '''\n",
        "    num_out_of_place = 0\n",
        "    ''' Start of Answer '''\n",
        "\n",
        "    goal = goal_state(len(puzzle))\n",
        "\n",
        "    for i in range(len(puzzle)):\n",
        "        for j in range(len(puzzle[i])):\n",
        "            if puzzle[i, j] != goal[i, j]:\n",
        "                num_out_of_place += 1\n",
        "\n",
        "    ''' End of Answer '''\n",
        "    return num_out_of_place"
      ]
    },
    {
      "cell_type": "markdown",
      "metadata": {
        "id": "-IACFWcMTctY"
      },
      "source": [
        "Now, let's test our out-of-place heuristic"
      ]
    },
    {
      "cell_type": "code",
      "execution_count": null,
      "metadata": {
        "colab": {
          "base_uri": "https://localhost:8080/"
        },
        "id": "h9ed2xBPTa2Y",
        "outputId": "a929f444-5ea7-4503-8bcb-838ac7d9bae0"
      },
      "outputs": [],
      "source": [
        "goal = goal_state(3)\n",
        "\n",
        "print('Goal State:', goal, sep='\\n')\n",
        "print('Goal State got', out_of_place(goal), 'should be', 0)\n",
        "\n",
        "other_puzzle = SlidingTile(3, [[3, 2, 7], [4, 8, 1], [0, 6, 5]])\n",
        "print('Random State:', other_puzzle, sep='\\n')\n",
        "print('Random State got', out_of_place(other_puzzle), 'should be', 7)"
      ]
    },
    {
      "cell_type": "markdown",
      "metadata": {
        "id": "argwjRTeS8LS"
      },
      "source": [
        "### A* Search"
      ]
    },
    {
      "cell_type": "markdown",
      "metadata": {
        "id": "gdmvfwcsT5bu"
      },
      "source": [
        "Now that we have a heuristic, lets use it in our search algorithm. This algorithm is called A*-search, as it considers how far we have been and how far we must go to arrive at the solution.\n",
        "\n",
        "It follows the formula, F(N) = G(N) + H(N)\n",
        "\n",
        "where, F is the estimate of the final distance, G is the current distance that we calculated, and H is the estimated further distance that we must go.\n",
        "\n",
        "A* will search states with the lowest final distance first, before those with the longer distance. To do this, we are using a data structure called heap.\n",
        "\n",
        "As this is a little more complicated, we have fully implemented it below"
      ]
    },
    {
      "cell_type": "markdown",
      "metadata": {
        "id": "2WoZ3x0ET5bv"
      },
      "source": [
        "Now let's solve the puzzle we had from earlier"
      ]
    },
    {
      "cell_type": "code",
      "execution_count": null,
      "metadata": {
        "colab": {
          "base_uri": "https://localhost:8080/",
          "height": 371
        },
        "id": "SldiQxADT5bv",
        "outputId": "d2e22367-2719-4b37-ff80-13f6255889d0"
      },
      "outputs": [],
      "source": [
        "sliding_tile = SlidingTile(3,[[4, 2, 3], [7, 0, 5], [8, 6, 1]])\n",
        "solved_sliding_tile, expanded = AStarSearch(sliding_tile, out_of_place)\n",
        "print('Sliding Tile Sample:\\n', sliding_tile, '\\nSolution:', solved_sliding_tile, ' Expanded:', expanded)"
      ]
    },
    {
      "cell_type": "markdown",
      "metadata": {
        "id": "bOA3rjtdT5bv"
      },
      "source": [
        "### Custom Heuristic\n",
        "\n",
        "However, our heuristic only goes so far. You may still notice that we can't solve a random three-by-three sliding tile puzzle yet. For the rest of this project, your job is to find a heuristic function that can beat our simple out_of_place count.\n",
        "\n",
        "What other estimates can you find that could estimate how much further better than we can?"
      ]
    },
    {
      "cell_type": "code",
      "execution_count": null,
      "metadata": {
        "id": "35evw7AFT5bv"
      },
      "outputs": [],
      "source": [
        "def your_heuristic(puzzle):\n",
        "    ''' Start of Answer '''\n",
        "    '''\n",
        "    Answers may vary. Possible strategies include:\n",
        "    1. Count the number of tiles out of place\n",
        "    2. L1 Distance\n",
        "    3. L1 Distance + Linear Conflict\n",
        "    4. Pattern Table\n",
        "\n",
        "    I would only expect them to come up with L1 Distance. Make sure that solution is always an underestimate.\n",
        "\n",
        "    '''\n",
        "    pass\n",
        "    ''' End of Answer '''\n",
        "\n",
        "sliding_tile = generate_valid_sliding_tile(4)\n",
        "solved_sliding_tile, expanded = AStarSearch(sliding_tile, your_heuristic)\n",
        "print('Sliding Tile Sample:\\n', sliding_tile, '\\nSolution:', solved_sliding_tile, ' Expanded:', expanded)"
      ]
    }
  ],
  "metadata": {
    "colab": {
      "provenance": [],
      "toc_visible": true
    },
    "kernelspec": {
      "display_name": "Python 3.9.1 64-bit ('shims': pyenv)",
      "language": "python",
      "name": "python3"
    },
    "language_info": {
      "codemirror_mode": {
        "name": "ipython",
        "version": 3
      },
      "file_extension": ".py",
      "mimetype": "text/x-python",
      "name": "python",
      "nbconvert_exporter": "python",
      "pygments_lexer": "ipython3",
      "version": "3.8.8"
    },
    "orig_nbformat": 4,
    "vscode": {
      "interpreter": {
        "hash": "116a025d3fdf725f83e7492f9d70ad717c0d1c709e28d3168fe50c2d6bf5aca6"
      }
    }
  },
  "nbformat": 4,
  "nbformat_minor": 0
}
